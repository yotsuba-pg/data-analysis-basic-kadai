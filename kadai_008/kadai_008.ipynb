{
  "cells": [
    {
      "cell_type": "code",
      "source": [
        "from sklearn.datasets import load_wine\n",
        "from sklearn.model_selection import train_test_split\n",
        "# from sklearn.tree import DecisionTreeClassifier\n",
        "from sklearn.ensemble import RandomForestClassifier\n",
        "from sklearn.metrics import accuracy_score\n",
        "import pandas as pd\n",
        "import numpy as np\n",
        "\n",
        "dataset = load_wine()\n",
        "dataset\n",
        "\n",
        "dataset.data\n",
        "dataset.feature_names\n",
        "\n",
        "df = pd.DataFrame(data=dataset.data, columns=dataset.feature_names)\n",
        "df.head()\n",
        "\n",
        "dataset.target\n",
        "\n",
        "df['category'] = dataset.target\n",
        "df.head()\n",
        "df.shape\n",
        "\n",
        "X = dataset.data\n",
        "y = dataset.target\n",
        "\n",
        "train_test_split(X, y, test_size=0.3, random_state=5)\n",
        "# 以下のようにrandom_stateを指定しない場合、実行毎に結果が異なります。\n",
        "# train_test_split(X, y, test_size=0.3)\n",
        "\n",
        "X_train, X_test, y_train, y_test = train_test_split(X, y, test_size=0.3, random_state=5)\n",
        "print(X.shape, X_train.shape, X_test.shape, y.shape, y_train.shape, y_test.shape)\n",
        "\n",
        "# model = DecisionTreeClassifier(random_state=3)\n",
        "# 以下のようにrandom_stateを指定しない場合、最終的に生成される予測モデルが実行毎に異なる可能性があります。これは、モデルの評価結果や予測結果が実行毎に変わってしまう可能性があること意味します。\n",
        "# model = DecisionTreeClassifier()\n",
        "\n",
        "model = RandomForestClassifier(random_state=3)\n",
        "\n",
        "model.fit(X_train, y_train)\n",
        "\n",
        "y_pred = model.predict(X_test)\n",
        "y_pred\n",
        "y_test\n",
        "\n",
        "accuracy_score(y_test, y_pred)\n",
        "\n",
        "model.score(X_test, y_test)\n",
        "\n",
        "X_real = np.array([\n",
        "    [13, 1.6, 2.2, 16, 118, 2.6, 2.9, 0.21, 1.6, 5.8, 0.92, 3.2, 1011],\n",
        "    [12, 2.8, 2.2, 18, 100, 2.5, 2.3, 0.25, 2.0, 2.2, 1.15, 3.3, 1000],\n",
        "    [14, 4.1, 2.7, 24, 101, 1.6, 0.7, 0.53, 1.4, 9.4, 0.61, 1.6, 560]])\n",
        "\n",
        "model.predict(X_real)"
      ],
      "metadata": {
        "id": "IsG1mDvpSAG-",
        "outputId": "df0adfa2-51a5-4557-af23-ef0655f83c1f",
        "colab": {
          "base_uri": "https://localhost:8080/"
        }
      },
      "execution_count": 26,
      "outputs": [
        {
          "output_type": "execute_result",
          "data": {
            "text/plain": [
              "0.9629629629629629"
            ]
          },
          "metadata": {},
          "execution_count": 26
        }
      ]
    }
  ],
  "metadata": {
    "colab": {
      "name": "Colab へようこそ",
      "toc_visible": true,
      "provenance": []
    },
    "kernelspec": {
      "display_name": "Python 3",
      "name": "python3"
    }
  },
  "nbformat": 4,
  "nbformat_minor": 0
}