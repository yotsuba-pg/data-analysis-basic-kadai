{
  "cells": [
    {
      "cell_type": "code",
      "source": [
        "import numpy as np\n",
        "A = np.array([[0,1],[2,3],[4,5]])\n",
        "B = np.array([[0,1,2,3],[4,5,6,7]])\n",
        "C = np.dot(A,B)\n",
        "print(\"行列の積：　\")\n",
        "print(C)\n",
        "max_value = np.max(C)\n",
        "print(\"行列の要素の最大値：　\", max_value)"
      ],
      "metadata": {
        "colab": {
          "base_uri": "https://localhost:8080/"
        },
        "id": "zXeKfVz3jXIf",
        "outputId": "d19ce365-8da3-4755-9ca4-dc7a1534f640"
      },
      "execution_count": 18,
      "outputs": [
        {
          "output_type": "stream",
          "name": "stdout",
          "text": [
            "行列の積：　\n",
            "[[ 4  5  6  7]\n",
            " [12 17 22 27]\n",
            " [20 29 38 47]]\n",
            "行列の要素の最大値：　 47\n"
          ]
        }
      ]
    }
  ],
  "metadata": {
    "colab": {
      "name": "Colaboratory へようこそ",
      "provenance": []
    },
    "kernelspec": {
      "display_name": "Python 3",
      "name": "python3"
    }
  },
  "nbformat": 4,
  "nbformat_minor": 0
}